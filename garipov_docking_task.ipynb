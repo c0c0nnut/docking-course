{
 "cells": [
  {
   "cell_type": "code",
   "execution_count": null,
   "id": "5bde5c37",
   "metadata": {},
   "outputs": [],
   "source": [
    "# importing all modules\n",
    "from pymol import cmd\n",
    "import py3Dmol\n",
    "import pdbfixer\n",
    "from openbabel import pybel\n",
    "from vina import Vina\n",
    "from rdkit import Chem, DataStructs\n",
    "from rdkit.Chem import AllChem, Draw\n",
    "import sys, os, random\n",
    "import numpy as np\n",
    "from sklearn import metrics\n",
    "from sklearn.naive_bayes import GaussianNB\n",
    "from sklearn.decomposition import PCA"
   ]
  },
  {
   "cell_type": "code",
   "execution_count": null,
   "id": "f233f6a8",
   "metadata": {},
   "outputs": [],
   "source": [
    "cmd.fetch(code='3e64',type='pdb1')\n",
    "cmd.select(name='prot',selection='polymer.protein')\n",
    "cmd.select(name='ligand',selection='organic')\n",
    "cmd.save(filename='3e64_clean.pdb',format='pdb',selection='prot')\n",
    "cmd.save(filename='3e64_ligand.mol2',format='mol2',selection='ligand')\n",
    "cmd.delete('all')"
   ]
  },
  {
   "cell_type": "code",
   "execution_count": null,
   "id": "7e6f8b0a",
   "metadata": {},
   "outputs": [],
   "source": [
    "# py3Dmol \n",
    "view = py3Dmol.view()\n",
    "view.removeAllModels()\n",
    "view.setViewStyle({'style':'outline','color':'black','width':0.1})\n",
    "\n",
    "view.addModel(open('3e64_clean.pdb','r').read(),format='pdb')\n",
    "Prot=view.getModel()\n",
    "Prot.setStyle({'cartoon':{'arrows':True, 'tubes':True, 'style':'oval', 'color':'white'}})\n",
    "view.addSurface(py3Dmol.VDW,{'opacity':0.6,'color':'white'})\n",
    "\n",
    "view.addModel(open('3e64_ligand.mol2','r').read(),format='mol2')\n",
    "ref_m = view.getModel()\n",
    "ref_m.setStyle({},{'stick':{'colorscheme':'greenCarbon','radius':0.2}})\n",
    "\n",
    "view.zoomTo()\n",
    "view.show()"
   ]
  },
  {
   "cell_type": "code",
   "execution_count": null,
   "id": "985acea5",
   "metadata": {},
   "outputs": [],
   "source": [
    "# prepare the protein structure for docking\n",
    "from pdbfixer import PDBFixer\n",
    "from openmm.app import PDBFile\n",
    "\n",
    "fix = PDBFixer(filename='3e64_clean.pdb')\n",
    "# find missing residues\n",
    "fix.findMissingResidues()\n",
    "# find and replace nonstandard residues\n",
    "fix.findNonstandardResidues()\n",
    "fix.replaceNonstandardResidues()\n",
    "# remove the garbage\n",
    "fix.removeHeterogens(True)\n",
    "# find and add missing atoms\n",
    "fix.findMissingAtoms()\n",
    "fix.addMissingAtoms()\n",
    "# add hydrogens at pH=7.4\n",
    "fix.addMissingHydrogens(7.4)\n",
    "# write an output fine\n",
    "PDBFile.writeFile(fix.topology, fix.positions, open('3e64_clean_H.pdb', 'w'))"
   ]
  },
  {
   "cell_type": "code",
   "execution_count": null,
   "id": "7140a9e6",
   "metadata": {},
   "outputs": [],
   "source": [
    "# prepare the receptor for docking\n",
    "! /Users/philipporekhov/soft/ADFRsuite_x86_64Darwin_1.0/bin/prepare_receptor -v -r {'3e64_clean_H.pdb'} -o {'3e64_clean_H.pdbqt'}"
   ]
  },
  {
   "cell_type": "code",
   "execution_count": null,
   "id": "f85e8121",
   "metadata": {},
   "outputs": [],
   "source": [
    "# define the size of docking box (+- 5 A from the edges of the native ligand)\n",
    "cmd.load(filename='3e64_clean_H.pdb',format='pdb',object='prot')\n",
    "cmd.load(filename='3e64_ligand.mol2',format='mol2',object='lig')\n",
    "\n",
    "([minX, minY, minZ],[maxX, maxY, maxZ]) = cmd.get_extent('lig')\n",
    "\n",
    "minX = minX - 5.0\n",
    "minY = minY - 5.0\n",
    "minZ = minZ - 5.0\n",
    "maxX = maxX + 5.0\n",
    "maxY = maxY + 5.0\n",
    "maxZ = maxZ + 5.0\n",
    "    \n",
    "SizeX = maxX - minX\n",
    "SizeY = maxY - minY\n",
    "SizeZ = maxZ - minZ\n",
    "CenterX =  (maxX + minX)/2\n",
    "CenterY =  (maxY + minY)/2\n",
    "CenterZ =  (maxZ + minZ)/2\n",
    "\n",
    "cmd.delete('all')\n",
    "\n",
    "center = {'center_x':CenterX,'center_y': CenterY, 'center_z': CenterZ}\n",
    "size = {'size_x':SizeX,'size_y': SizeY,'size_z': SizeZ}\n",
    "print(center,'\\n',size)"
   ]
  },
  {
   "cell_type": "code",
   "execution_count": null,
   "id": "a2b07c0a",
   "metadata": {},
   "outputs": [],
   "source": [
    "# read ligands found using the pharmacophore model\n",
    "for i, mol in enumerate(pybel.readfile(\"sdf\", \"query_results.sdf\")):\n",
    "    mol.make3D()\n",
    "    mol.write(format='pdbqt', filename='mol_' + str(i) +'.pdbqt', overwrite=True)"
   ]
  },
  {
   "cell_type": "code",
   "execution_count": null,
   "id": "aa03ef81",
   "metadata": {},
   "outputs": [],
   "source": [
    "mol = next(pybel.readfile(\"mol2\", \"3e64_ligand.mol2\"))\n",
    "mol.make3D()\n",
    "mol.write(format='pdbqt', filename='3e64_ligand.pdbqt', overwrite=True)"
   ]
  },
  {
   "cell_type": "code",
   "execution_count": null,
   "id": "5e6eda54",
   "metadata": {},
   "outputs": [],
   "source": [
    "# initialize and run vina docking for the native ligand\n",
    "v = Vina(sf_name='vina')\n",
    "v.set_receptor('3e64_clean_H.pdbqt')\n",
    "v.compute_vina_maps(center=[center['center_x'], center['center_y'], center['center_z']], \n",
    "                    box_size=[size['size_x'], size['size_y'], size['size_z']])\n",
    "\n",
    "\n",
    "v.set_ligand_from_file('3e64_ligand.pdbqt')\n",
    "v.dock(exhaustiveness=10, n_poses=1)\n",
    "v.write_poses('3e64_ligand_vina_out.pdbqt', n_poses=1, overwrite=True)"
   ]
  },
  {
   "cell_type": "code",
   "execution_count": null,
   "id": "4b60c380",
   "metadata": {},
   "outputs": [],
   "source": [
    "# print the score\n",
    "print(v.score()[0])\n",
    "# write out the dicking pose\n",
    "mol = next(pybel.readfile(\"pdbqt\", \"3e64_ligand_vina_out.pdbqt\"))\n",
    "mol.write(format='mol2', filename='3e64_ligand_vina_out.mol2', overwrite=True)"
   ]
  },
  {
   "cell_type": "code",
   "execution_count": null,
   "id": "c8e6b2da",
   "metadata": {},
   "outputs": [],
   "source": [
    "# show it\n",
    "view = py3Dmol.view()\n",
    "view.removeAllModels()\n",
    "view.setViewStyle({'style':'outline','color':'black','width':0.1})\n",
    "\n",
    "view.addModel(open('3e64_clean_H.pdb','r').read(), format='pdb')\n",
    "Prot=view.getModel()\n",
    "Prot.setStyle({'cartoon':{'arrows':True, 'tubes':True, 'style':'oval', 'color':'white'}})\n",
    "view.addSurface(py3Dmol.VDW,{'opacity':0.6,'color':'white'})\n",
    "\n",
    "\n",
    "view.addModel(open('3e64_ligand.mol2','r').read(),format='mol2')\n",
    "ref_m = view.getModel()\n",
    "ref_m.setStyle({},{'stick':{'colorscheme':'magentaCarbon','radius':0.2}})\n",
    "\n",
    "view.addModel(open('3e64_ligand_vina_out.mol2','r').read(),format='mol2')\n",
    "ref_m = view.getModel()\n",
    "ref_m.setStyle({},{'stick':{'colorscheme':'cyanCarbon','radius':0.2}})\n",
    "\n",
    "view.zoomTo()\n",
    "view.show()"
   ]
  },
  {
   "cell_type": "code",
   "execution_count": null,
   "id": "4c9d7088",
   "metadata": {},
   "outputs": [],
   "source": [
    "# run vina docking for all ligands\n",
    "v = Vina(sf_name='vina')\n",
    "v.set_receptor('3e64_clean_H.pdbqt')\n",
    "v.compute_vina_maps(center=[center['center_x'], center['center_y'], center['center_z']], \n",
    "                    box_size=[size['size_x'], size['size_y'], size['size_z']])\n",
    "\n",
    "ligands = ['mol_' + str(i) + '.pdbqt' for i in range(50)]\n",
    "scores = []\n",
    "\n",
    "for i, ligand in enumerate(ligands):\n",
    "    v.set_ligand_from_file(ligand)\n",
    "    v.dock(exhaustiveness=10, n_poses=1)\n",
    "    v.write_poses('mol_' + str(i) + '_vina_out.pdbqt', n_poses=1, overwrite=True)\n",
    "    scores.append(v.score()[0])"
   ]
  },
  {
   "cell_type": "code",
   "execution_count": null,
   "id": "e033ff35",
   "metadata": {},
   "outputs": [],
   "source": [
    "best_score = scores.index(min(scores))\n",
    "print(best_score)"
   ]
  },
  {
   "cell_type": "code",
   "execution_count": null,
   "id": "f226b46e",
   "metadata": {
    "scrolled": true
   },
   "outputs": [],
   "source": [
    "# generate fingerpring for the native ligand\n",
    "mol = next(pybel.readfile(\"mol2\", \"3e64_ligand.mol2\"))\n",
    "ref_lig_smi = mol.write().split('\\t')[0]\n",
    "ref_mol = Chem.MolFromSmiles(ref_lig_smi)\n",
    "\n",
    "ref_fps = AllChem.GetMorganFingerprintAsBitVect(ref_mol,2)\n",
    "print(ref_fps.ToBitString())\n",
    "ref_mol"
   ]
  },
  {
   "cell_type": "code",
   "execution_count": null,
   "id": "674a8f09",
   "metadata": {},
   "outputs": [],
   "source": [
    "# calculate the similarity metrics (Tanimoto)\n",
    "ligs = Chem.SDMolSupplier('query_results.sdf')\n",
    "ligs_fps = [AllChem.GetMorganFingerprintAsBitVect(i, 2) for i in ligs]\n",
    "similarity = [DataStructs.FingerprintSimilarity(ref_fps, i) for i in ligs_fps]\n",
    "\n",
    "print(max(similarity), '\\n', similarity[best_score])"
   ]
  },
  {
   "cell_type": "code",
   "execution_count": null,
   "id": "d3f69e9d",
   "metadata": {},
   "outputs": [],
   "source": [
    "print(Chem.MolToSmiles(ligs[best_score]))\n",
    "print(ref_lig_smi)"
   ]
  },
  {
   "cell_type": "code",
   "execution_count": null,
   "id": "2599bcb6",
   "metadata": {},
   "outputs": [],
   "source": [
    "# read  the dataset with water solubility data and smiles\n",
    "import pandas as pd\n",
    "esol_data = pd.read_csv('alogps_2_1_logs_training_.csv')\n",
    "PandasTools.AddMoleculeColumnToFrame(esol_data, smilesCol='SMILES')\n",
    "\n",
    "# generate fingerprints for all compounds in the table\n",
    "radius=3\n",
    "nBits=1024\n",
    "ECFP6 = [AllChem.GetMorganFingerprintAsBitVect(x,radius=radius, nBits=nBits) for x in esol_data['ROMol']]\n",
    "ecfp6_name = [f'Bit_{i}' for i in range(nBits)]\n",
    "ecfp6_bits = [list(l) for l in ECFP6]\n",
    "df_morgan = pd.DataFrame(ecfp6_bits, index = esol_data.SMILES, columns=ecfp6_name)\n",
    "df_morgan"
   ]
  },
  {
   "cell_type": "code",
   "execution_count": null,
   "id": "e2bd2537",
   "metadata": {},
   "outputs": [],
   "source": [
    "# make PCA for fingerprints\n",
    "from sklearn.decomposition import PCA\n",
    "\n",
    "pca = PCA(n_components=10, random_state=0)\n",
    "esol_pca = pca.fit_transform(df_morgan)"
   ]
  },
  {
   "cell_type": "code",
   "execution_count": null,
   "id": "9205535f",
   "metadata": {},
   "outputs": [],
   "source": [
    "# split the dateset to training and test sets\n",
    "from sklearn.model_selection import train_test_split\n",
    "\n",
    "X_train, X_test, y_train, y_test = train_test_split(esol_pca,\n",
    "                                                    esol_data['Water solubility'],\n",
    "                                                    test_size=0.30,\n",
    "                                                    random_state=1234)"
   ]
  },
  {
   "cell_type": "code",
   "execution_count": null,
   "id": "efe626b0",
   "metadata": {},
   "outputs": [],
   "source": [
    "# train gradient boosting regression model and predict\n",
    "# solubility for training and test sets\n",
    "from sklearn.ensemble import GradientBoostingRegressor\n",
    "import matplotlib.pyplot as plt\n",
    "from sklearn.metrics import r2_score, mean_squared_error\n",
    "\n",
    "reg = GradientBoostingRegressor(random_state=0)\n",
    "reg.fit(X_train, y_train)\n",
    "pred = reg.predict(X_train)\n",
    "print(r2_score(y_train, pred))\n",
    "print(mean_squared_error(y_train, pred))\n",
    "plt.plot(pred, y_train, lw = 0, marker = 'o')\n",
    "plt.show()\n",
    "\n",
    "pred = reg.predict(X_test)\n",
    "print(r2_score(y_test, pred))\n",
    "print(mean_squared_error(y_test, pred))\n",
    "plt.plot(pred, y_test, lw = 0, marker = 'o')\n",
    "plt.show()"
   ]
  },
  {
   "cell_type": "code",
   "execution_count": null,
   "id": "204ea190",
   "metadata": {},
   "outputs": [],
   "source": [
    "# predict solubility for the docked ligands\n",
    "ligs = Chem.SDMolSupplier('query_results.sdf')\n",
    "ligs_fp = [AllChem.GetMorganFingerprintAsBitVect(x,radius=radius, nBits=nBits) for x in ligs]\n",
    "ligs_ecfp6_bits = [list(l) for l in ligs_fp]\n",
    "ligs_df_morgan = pd.DataFrame(ligs_ecfp6_bits, index = np.arange(0, 50), columns=ecfp6_name)\n",
    "ligs_pca = pca.fit_transform(ligs_df_morgan)\n",
    "ligs_pred = reg.predict(ligs_pca)\n",
    "# solubility for the best scored ligand, in M/L\n",
    "ligs_pred[best_score]"
   ]
  },
  {
   "cell_type": "code",
   "execution_count": null,
   "id": "3e9631b4",
   "metadata": {},
   "outputs": [],
   "source": []
  }
 ],
 "metadata": {
  "kernelspec": {
   "display_name": "Python 3 (ipykernel)",
   "language": "python",
   "name": "python3"
  },
  "language_info": {
   "codemirror_mode": {
    "name": "ipython",
    "version": 3
   },
   "file_extension": ".py",
   "mimetype": "text/x-python",
   "name": "python",
   "nbconvert_exporter": "python",
   "pygments_lexer": "ipython3",
   "version": "3.8.13"
  }
 },
 "nbformat": 4,
 "nbformat_minor": 5
}
